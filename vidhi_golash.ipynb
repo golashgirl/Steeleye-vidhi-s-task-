{
 "cells": [
  {
   "cell_type": "code",
   "execution_count": 1,
   "metadata": {
    "collapsed": false
   },
   "outputs": [
   ],
   "source": [
    "import requests\n",
    "import csv\n",
    "import logging\n",
    "\n",
    "logging.basicConfig(level=logging.INFO)\n",
    "\n",
    "def fetch_data(url):\n",
    "    \"\"\"\n",
    "    Fetch JSON data from the given URL.\n",
    "    \"\"\"\n",
    "    try:\n",
    "        response = requests.get(url)\n",
    "        response.raise_for_status()\n",
    "        return response.json()\n",
    "    except requests.exceptions.RequestException as e:\n",
    "        logging.error(f\"Failed to fetch data from {url}: {e}\")\n",
    "        return None\n",
    "\n",
    "def get_country_name(country_code, countries_data):\n",
    "    \"\"\"\n",
    "    Get the country name from the country code.\n",
    "    \"\"\"\n",
    "    for country in countries_data.get('countries', []):\n",
    "        if country['code'] == country_code:\n",
    "            return country['name']\n",
    "    return None\n",
    "\n",
    "def process_laureates_data(laureates_data, countries_data):\n",
    "    \"\"\"\n",
    "    Process laureates data and extract required information.\n",
    "    \"\"\"\n",
    "    processed_data = []\n",
    "    for laureate in laureates_data['laureates']:\n",
    "        id = laureate.get('id', '')\n",
    "        name = laureate.get('firstname', '') + ' ' + laureate.get('surname', '') if laureate.get('surname') else laureate.get('firstname', '')\n",
    "        dob = laureate.get('born', {}).get('date', '')\n",
    "        unique_prize_years = ';'.join(set(prize['year'] for prize in laureate.get('prizes', [])))\n",
    "        unique_prize_categories = ';'.join(set(prize['category'] for prize in laureate.get('prizes', [])))\n",
    "        gender = laureate.get('gender', '')\n",
    "        country_code = laureate.get('bornCountryCode', '')\n",
    "        country_name = get_country_name(country_code, countries_data)\n",
    "        \n",
    "        processed_data.append({\n",
    "            'id': id,\n",
    "            'name': name,\n",
    "            'dob': dob,\n",
    "            'unique_prize_years': unique_prize_years,\n",
    "            'unique_prize_categories': unique_prize_categories,\n",
    "            'gender': gender,\n",
    "            'bornCountry': country_name\n",
    "        })\n",
    "    return processed_data\n",
    "\n",
    "def write_to_csv(data, filename):\n",
    "    \"\"\"\n",
    "    Write data to CSV file.\n",
    "    \"\"\"\n",
    "    try:\n",
    "        with open(filename, 'w', newline='', encoding='utf-8') as csvfile:\n",
    "            fieldnames = ['id', 'name', 'dob', 'unique_prize_years', 'unique_prize_categories', 'gender', 'bornCountry']\n",
    "            writer = csv.DictWriter(csvfile, fieldnames=fieldnames)\n",
    "            writer.writeheader()\n",
    "            for row in data:\n",
    "                writer.writerow(row)\n",
    "        logging.info(f\"Data successfully written to {filename}\")\n",
    "    except IOError as e:\n",
    "        logging.error(f\"Failed to write to CSV file: {e}\")\n",
    "\n",
    "def main():\n",
    "    laureates_url = 'https://raw.githubusercontent.com/ashwath92/nobel_json/main/laureates.json'\n",
    "    countries_url = 'https://raw.githubusercontent.com/ashwath92/nobel_json/main/countries.json'\n",
    "\n",
    "    laureates_data = fetch_data(laureates_url)\n",
    "    countries_data = fetch_data(countries_url)\n",
    "\n",
    "    if laureates_data and countries_data:\n",
    "        processed_data = process_laureates_data(laureates_data, countries_data)\n",
    "        write_to_csv(processed_data, 'nobel_laureates.csv')\n",
    "    else:\n",
    "        logging.error(\"Failed to fetch required data. Exiting...\")\n",
    "\n",
    "if __name__ == \"__main__\":\n",
    "    main()"
   ]
  },
  {
   "cell_type": "code",
   "execution_count": 0,
   "metadata": {
    "collapsed": false
   },
   "outputs": [
   ],
   "source": [
   ]
  }
 ],
 "metadata": {
  "kernelspec": {
   "argv": [
    "/usr/bin/python3",
    "-m",
    "ipykernel",
    "--HistoryManager.enabled=False",
    "--matplotlib=inline",
    "-c",
    "%config InlineBackend.figure_formats = set(['retina'])\nimport matplotlib; matplotlib.rcParams['figure.figsize'] = (12, 7)",
    "-f",
    "{connection_file}"
   ],
   "display_name": "Python 3 (system-wide)",
   "env": {
   },
   "language": "python",
   "metadata": {
    "cocalc": {
     "description": "Python 3 programming language",
     "priority": 100,
     "url": "https://www.python.org/"
    }
   },
   "name": "python3",
   "resource_dir": "/ext/jupyter/kernels/python3"
  },
  "language_info": {
   "codemirror_mode": {
    "name": "ipython",
    "version": 3
   },
   "file_extension": ".py",
   "mimetype": "text/x-python",
   "name": "python",
   "nbconvert_exporter": "python",
   "pygments_lexer": "ipython3",
   "version": "3.10.12"
  }
 },
 "nbformat": 4,
 "nbformat_minor": 4
}